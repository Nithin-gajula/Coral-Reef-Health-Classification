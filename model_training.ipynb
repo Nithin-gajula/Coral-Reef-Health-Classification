{
 "cells": [
  {
   "cell_type": "code",
   "execution_count": 1,
   "metadata": {
    "execution": {
     "iopub.execute_input": "2025-03-25T06:09:55.709169Z",
     "iopub.status.busy": "2025-03-25T06:09:55.708832Z",
     "iopub.status.idle": "2025-03-25T06:09:55.712956Z",
     "shell.execute_reply": "2025-03-25T06:09:55.712076Z",
     "shell.execute_reply.started": "2025-03-25T06:09:55.709138Z"
    },
    "trusted": true
   },
   "outputs": [],
   "source": [
    "import os"
   ]
  },
  {
   "cell_type": "code",
   "execution_count": 2,
   "metadata": {
    "execution": {
     "iopub.execute_input": "2025-03-25T06:09:58.187070Z",
     "iopub.status.busy": "2025-03-25T06:09:58.186777Z",
     "iopub.status.idle": "2025-03-25T06:09:58.190661Z",
     "shell.execute_reply": "2025-03-25T06:09:58.189837Z",
     "shell.execute_reply.started": "2025-03-25T06:09:58.187047Z"
    },
    "trusted": true
   },
   "outputs": [],
   "source": [
    "dataset_path = \"/kaggle/input/coralreef/Bleached Corals and Healthy Corals Classification\""
   ]
  },
  {
   "cell_type": "code",
   "execution_count": 3,
   "metadata": {
    "execution": {
     "iopub.execute_input": "2025-03-25T06:10:12.981473Z",
     "iopub.status.busy": "2025-03-25T06:10:12.981201Z",
     "iopub.status.idle": "2025-03-25T06:10:12.993855Z",
     "shell.execute_reply": "2025-03-25T06:10:12.993088Z",
     "shell.execute_reply.started": "2025-03-25T06:10:12.981452Z"
    },
    "trusted": true
   },
   "outputs": [
    {
     "name": "stdout",
     "output_type": "stream",
     "text": [
      "Dataset contents: ['Screenshot 2023-06-03 150340.png', 'Validation', 'Training', 'Testing']\n"
     ]
    }
   ],
   "source": [
    "print(\"Dataset contents:\", os.listdir(dataset_path))"
   ]
  },
  {
   "cell_type": "code",
   "execution_count": 5,
   "metadata": {
    "execution": {
     "iopub.execute_input": "2025-03-25T06:13:10.942398Z",
     "iopub.status.busy": "2025-03-25T06:13:10.942104Z",
     "iopub.status.idle": "2025-03-25T06:13:10.946206Z",
     "shell.execute_reply": "2025-03-25T06:13:10.945312Z",
     "shell.execute_reply.started": "2025-03-25T06:13:10.942375Z"
    },
    "trusted": true
   },
   "outputs": [],
   "source": [
    "train_dir = os.path.join(dataset_path, \"Training\")  # This contains 'healthy' and 'bleached'\n",
    "val_dir = os.path.join(dataset_path, \"Validation\")  # This contains 'healthy' and 'bleached'\n",
    "test_dir = os.path.join(dataset_path, \"Testing\")    # If you have a test folder"
   ]
  },
  {
   "cell_type": "markdown",
   "metadata": {},
   "source": [
    "Ensemble Model"
   ]
  },
  {
   "cell_type": "code",
   "execution_count": 6,
   "metadata": {
    "execution": {
     "iopub.execute_input": "2025-03-25T06:13:25.680442Z",
     "iopub.status.busy": "2025-03-25T06:13:25.680156Z",
     "iopub.status.idle": "2025-03-25T06:49:45.991186Z",
     "shell.execute_reply": "2025-03-25T06:49:45.990436Z",
     "shell.execute_reply.started": "2025-03-25T06:13:25.680420Z"
    },
    "trusted": true
   },
   "outputs": [
    {
     "name": "stdout",
     "output_type": "stream",
     "text": [
      "Found 7384 images belonging to 2 classes.\n",
      "Found 923 images belonging to 2 classes.\n",
      "Found 985 images belonging to 2 classes.\n",
      "Classes found: {'bleached_corals': 0, 'healthy_corals': 1}\n",
      "Downloading data from https://storage.googleapis.com/tensorflow/keras-applications/inception_v3/inception_v3_weights_tf_dim_ordering_tf_kernels_notop.h5\n",
      "\u001b[1m87910968/87910968\u001b[0m \u001b[32m━━━━━━━━━━━━━━━━━━━━\u001b[0m\u001b[37m\u001b[0m \u001b[1m0s\u001b[0m 0us/step\n",
      "Downloading data from https://storage.googleapis.com/tensorflow/keras-applications/vgg16/vgg16_weights_tf_dim_ordering_tf_kernels_notop.h5\n",
      "\u001b[1m58889256/58889256\u001b[0m \u001b[32m━━━━━━━━━━━━━━━━━━━━\u001b[0m\u001b[37m\u001b[0m \u001b[1m0s\u001b[0m 0us/step\n",
      "Downloading data from https://storage.googleapis.com/tensorflow/keras-applications/resnet/resnet50_weights_tf_dim_ordering_tf_kernels_notop.h5\n",
      "\u001b[1m94765736/94765736\u001b[0m \u001b[32m━━━━━━━━━━━━━━━━━━━━\u001b[0m\u001b[37m\u001b[0m \u001b[1m0s\u001b[0m 0us/step\n",
      "Epoch 1/15\n"
     ]
    },
    {
     "name": "stderr",
     "output_type": "stream",
     "text": [
      "/usr/local/lib/python3.10/dist-packages/keras/src/trainers/data_adapters/py_dataset_adapter.py:122: UserWarning: Your `PyDataset` class should call `super().__init__(**kwargs)` in its constructor. `**kwargs` can include `workers`, `use_multiprocessing`, `max_queue_size`. Do not pass these arguments to `fit()`, as they will be ignored.\n",
      "  self._warn_if_super_not_called()\n"
     ]
    },
    {
     "name": "stdout",
     "output_type": "stream",
     "text": [
      "\u001b[1m231/231\u001b[0m \u001b[32m━━━━━━━━━━━━━━━━━━━━\u001b[0m\u001b[37m\u001b[0m \u001b[1m424s\u001b[0m 1s/step - accuracy: 0.6866 - loss: 0.6686 - val_accuracy: 0.4934 - val_loss: 1.1158 - learning_rate: 1.0000e-04\n",
      "Epoch 2/15\n",
      "\u001b[1m231/231\u001b[0m \u001b[32m━━━━━━━━━━━━━━━━━━━━\u001b[0m\u001b[37m\u001b[0m \u001b[1m124s\u001b[0m 520ms/step - accuracy: 0.8029 - loss: 0.4435 - val_accuracy: 0.4934 - val_loss: 2.1198 - learning_rate: 1.0000e-04\n",
      "Epoch 3/15\n",
      "\u001b[1m231/231\u001b[0m \u001b[32m━━━━━━━━━━━━━━━━━━━━\u001b[0m\u001b[37m\u001b[0m \u001b[1m123s\u001b[0m 520ms/step - accuracy: 0.8428 - loss: 0.3728 - val_accuracy: 0.5452 - val_loss: 1.6496 - learning_rate: 1.0000e-04\n",
      "Epoch 4/15\n",
      "\u001b[1m231/231\u001b[0m \u001b[32m━━━━━━━━━━━━━━━━━━━━\u001b[0m\u001b[37m\u001b[0m \u001b[1m123s\u001b[0m 518ms/step - accuracy: 0.8701 - loss: 0.2873 - val_accuracy: 0.8548 - val_loss: 0.3709 - learning_rate: 1.0000e-04\n",
      "Epoch 5/15\n",
      "\u001b[1m231/231\u001b[0m \u001b[32m━━━━━━━━━━━━━━━━━━━━\u001b[0m\u001b[37m\u001b[0m \u001b[1m123s\u001b[0m 518ms/step - accuracy: 0.8981 - loss: 0.2516 - val_accuracy: 0.9543 - val_loss: 0.1156 - learning_rate: 1.0000e-04\n",
      "Epoch 6/15\n",
      "\u001b[1m231/231\u001b[0m \u001b[32m━━━━━━━━━━━━━━━━━━━━\u001b[0m\u001b[37m\u001b[0m \u001b[1m123s\u001b[0m 518ms/step - accuracy: 0.9219 - loss: 0.1915 - val_accuracy: 0.9228 - val_loss: 0.1864 - learning_rate: 1.0000e-04\n",
      "Epoch 7/15\n",
      "\u001b[1m231/231\u001b[0m \u001b[32m━━━━━━━━━━━━━━━━━━━━\u001b[0m\u001b[37m\u001b[0m \u001b[1m123s\u001b[0m 518ms/step - accuracy: 0.9277 - loss: 0.1854 - val_accuracy: 0.9716 - val_loss: 0.0835 - learning_rate: 1.0000e-04\n",
      "Epoch 8/15\n",
      "\u001b[1m231/231\u001b[0m \u001b[32m━━━━━━━━━━━━━━━━━━━━\u001b[0m\u001b[37m\u001b[0m \u001b[1m124s\u001b[0m 520ms/step - accuracy: 0.9340 - loss: 0.1711 - val_accuracy: 0.9330 - val_loss: 0.1549 - learning_rate: 1.0000e-04\n",
      "Epoch 9/15\n",
      "\u001b[1m231/231\u001b[0m \u001b[32m━━━━━━━━━━━━━━━━━━━━\u001b[0m\u001b[37m\u001b[0m \u001b[1m123s\u001b[0m 519ms/step - accuracy: 0.9398 - loss: 0.1520 - val_accuracy: 0.9817 - val_loss: 0.0528 - learning_rate: 1.0000e-04\n",
      "Epoch 10/15\n",
      "\u001b[1m231/231\u001b[0m \u001b[32m━━━━━━━━━━━━━━━━━━━━\u001b[0m\u001b[37m\u001b[0m \u001b[1m123s\u001b[0m 520ms/step - accuracy: 0.9563 - loss: 0.1153 - val_accuracy: 0.9624 - val_loss: 0.0884 - learning_rate: 1.0000e-04\n",
      "Epoch 11/15\n",
      "\u001b[1m231/231\u001b[0m \u001b[32m━━━━━━━━━━━━━━━━━━━━\u001b[0m\u001b[37m\u001b[0m \u001b[1m123s\u001b[0m 519ms/step - accuracy: 0.9532 - loss: 0.1263 - val_accuracy: 0.9848 - val_loss: 0.0428 - learning_rate: 1.0000e-04\n",
      "Epoch 12/15\n",
      "\u001b[1m231/231\u001b[0m \u001b[32m━━━━━━━━━━━━━━━━━━━━\u001b[0m\u001b[37m\u001b[0m \u001b[1m123s\u001b[0m 519ms/step - accuracy: 0.9530 - loss: 0.1328 - val_accuracy: 0.9746 - val_loss: 0.0635 - learning_rate: 1.0000e-04\n",
      "Epoch 13/15\n",
      "\u001b[1m231/231\u001b[0m \u001b[32m━━━━━━━━━━━━━━━━━━━━\u001b[0m\u001b[37m\u001b[0m \u001b[1m123s\u001b[0m 518ms/step - accuracy: 0.9538 - loss: 0.1152 - val_accuracy: 0.9665 - val_loss: 0.0922 - learning_rate: 1.0000e-04\n",
      "Epoch 14/15\n",
      "\u001b[1m231/231\u001b[0m \u001b[32m━━━━━━━━━━━━━━━━━━━━\u001b[0m\u001b[37m\u001b[0m \u001b[1m0s\u001b[0m 499ms/step - accuracy: 0.9559 - loss: 0.1201\n",
      "Epoch 14: ReduceLROnPlateau reducing learning rate to 4.999999873689376e-05.\n",
      "\u001b[1m231/231\u001b[0m \u001b[32m━━━━━━━━━━━━━━━━━━━━\u001b[0m\u001b[37m\u001b[0m \u001b[1m123s\u001b[0m 518ms/step - accuracy: 0.9558 - loss: 0.1202 - val_accuracy: 0.9838 - val_loss: 0.0471 - learning_rate: 1.0000e-04\n",
      "Epoch 15/15\n",
      "\u001b[1m231/231\u001b[0m \u001b[32m━━━━━━━━━━━━━━━━━━━━\u001b[0m\u001b[37m\u001b[0m \u001b[1m123s\u001b[0m 519ms/step - accuracy: 0.9592 - loss: 0.1072 - val_accuracy: 0.9888 - val_loss: 0.0304 - learning_rate: 5.0000e-05\n"
     ]
    }
   ],
   "source": [
    "import tensorflow as tf\n",
    "from tensorflow.keras.applications import InceptionV3, VGG16, ResNet50\n",
    "from tensorflow.keras import layers, models\n",
    "from tensorflow.keras.optimizers import AdamW\n",
    "from tensorflow.keras.preprocessing.image import ImageDataGenerator\n",
    "from tensorflow.keras.callbacks import ReduceLROnPlateau\n",
    "from sklearn.metrics import classification_report\n",
    "from sklearn.utils.class_weight import compute_class_weight\n",
    "import numpy as np\n",
    "\n",
    "# Constants\n",
    "IMG_SIZE = (224, 224)\n",
    "BATCH_SIZE = 32\n",
    "EPOCHS = 15\n",
    "LEARNING_RATE = 1e-4\n",
    "\n",
    "# Data Augmentation\n",
    "train_datagen = ImageDataGenerator(\n",
    "    rescale=1./255,\n",
    "    rotation_range=30,\n",
    "    width_shift_range=0.3,\n",
    "    height_shift_range=0.3,\n",
    "    shear_range=0.3,\n",
    "    zoom_range=0.3,\n",
    "    horizontal_flip=True,\n",
    "    brightness_range=[0.8, 1.2],\n",
    "    fill_mode='nearest')\n",
    "\n",
    "test_datagen = ImageDataGenerator(rescale=1./255)\n",
    "validation_datagen = ImageDataGenerator(rescale=1./255)\n",
    "\n",
    "# Load dataset\n",
    "train_generator = train_datagen.flow_from_directory(\n",
    "    train_dir, target_size=IMG_SIZE, batch_size=BATCH_SIZE, class_mode='binary')\n",
    "\n",
    "test_generator = test_datagen.flow_from_directory(\n",
    "    test_dir, target_size=IMG_SIZE, batch_size=BATCH_SIZE, class_mode='binary', shuffle=False)\n",
    "\n",
    "validation_generator = validation_datagen.flow_from_directory(\n",
    "    val_dir, target_size=IMG_SIZE, batch_size=BATCH_SIZE, class_mode='binary')\n",
    "\n",
    "print(f\"Classes found: {train_generator.class_indices}\")\n",
    "\n",
    "# Load pre-trained models\n",
    "inception = InceptionV3(input_shape=(224, 224, 3), include_top=False, weights='imagenet')\n",
    "vgg = VGG16(input_shape=(224, 224, 3), include_top=False, weights='imagenet')\n",
    "resnet = ResNet50(input_shape=(224, 224, 3), include_top=False, weights='imagenet')\n",
    "\n",
    "# Unfreeze last layers for fine-tuning\n",
    "for model in [inception, vgg, resnet]:\n",
    "    for layer in model.layers[-50:]:\n",
    "        layer.trainable = True\n",
    "\n",
    "# Input layer\n",
    "input_layer = layers.Input(shape=(224, 224, 3))\n",
    "\n",
    "# Feature extraction\n",
    "inception_features = inception(input_layer)\n",
    "vgg_features = vgg(input_layer)\n",
    "resnet_features = resnet(input_layer)\n",
    "\n",
    "# Global pooling\n",
    "inception_pool = layers.GlobalAveragePooling2D()(inception_features)\n",
    "vgg_pool = layers.GlobalAveragePooling2D()(vgg_features)\n",
    "resnet_pool = layers.GlobalAveragePooling2D()(resnet_features)\n",
    "\n",
    "# Concatenate features\n",
    "combined_features = layers.concatenate([inception_pool, vgg_pool, resnet_pool])\n",
    "combined_features = layers.BatchNormalization()(combined_features)\n",
    "\n",
    "# Fully connected layers\n",
    "x = layers.Dense(512, activation='relu')(combined_features)\n",
    "x = layers.Dropout(0.5)(x)\n",
    "x = layers.Dense(256, activation='relu')(x)\n",
    "x = layers.Dropout(0.3)(x)\n",
    "output_layer = layers.Dense(1, activation='sigmoid')(x)  # Binary classification\n",
    "\n",
    "# Build model\n",
    "model = models.Model(inputs=input_layer, outputs=output_layer)\n",
    "optimizer = AdamW(learning_rate=LEARNING_RATE, weight_decay=1e-5)\n",
    "model.compile(optimizer=optimizer, loss='binary_crossentropy', metrics=['accuracy'])\n",
    "\n",
    "# Class Weights to handle imbalance\n",
    "y_true = train_generator.classes\n",
    "class_weights = compute_class_weight(class_weight=\"balanced\", classes=np.unique(y_true), y=y_true)\n",
    "class_weights_dict = {i: class_weights[i] for i in range(len(class_weights))}\n",
    "\n",
    "# Learning rate scheduler\n",
    "lr_scheduler = ReduceLROnPlateau(monitor='val_loss', factor=0.5, patience=3, min_lr=1e-6, verbose=1)\n",
    "\n",
    "# Train model\n",
    "history = model.fit(train_generator, epochs=EPOCHS, validation_data=validation_generator, \n",
    "                    class_weight=class_weights_dict, verbose=1, callbacks=[lr_scheduler])\n",
    "\n",
    "\n"
   ]
  },
  {
   "cell_type": "code",
   "execution_count": 8,
   "metadata": {
    "execution": {
     "iopub.execute_input": "2025-03-25T06:50:14.467251Z",
     "iopub.status.busy": "2025-03-25T06:50:14.467012Z",
     "iopub.status.idle": "2025-03-25T06:50:16.548331Z",
     "shell.execute_reply": "2025-03-25T06:50:16.547614Z",
     "shell.execute_reply.started": "2025-03-25T06:50:14.467230Z"
    },
    "trusted": true
   },
   "outputs": [],
   "source": [
    "# Save model\n",
    "model.save('/kaggle/working/coral_ensemble_model.h5')"
   ]
  },
  {
   "cell_type": "code",
   "execution_count": null,
   "metadata": {
    "execution": {
     "iopub.execute_input": "2025-03-25T06:49:53.709319Z",
     "iopub.status.busy": "2025-03-25T06:49:53.708741Z",
     "iopub.status.idle": "2025-03-25T06:50:14.465901Z",
     "shell.execute_reply": "2025-03-25T06:50:14.465033Z",
     "shell.execute_reply.started": "2025-03-25T06:49:53.709292Z"
    },
    "trusted": true
   },
   "outputs": [
    {
     "name": "stdout",
     "output_type": "stream",
     "text": [
      "\u001b[1m29/29\u001b[0m \u001b[32m━━━━━━━━━━━━━━━━━━━━\u001b[0m\u001b[37m\u001b[0m \u001b[1m20s\u001b[0m 714ms/step - accuracy: 0.9855 - loss: 0.0264\n",
      "Test Accuracy: 0.9870\n"
     ]
    }
   ],
   "source": [
    "# Evaluate model\n",
    "test_loss, test_acc = model.evaluate(test_generator)\n",
    "print(f\"Test Accuracy: {test_acc:.4f}\")\n",
    "print(f\"Test LOss: {test_loss:.4f}\")\n"
   ]
  },
  {
   "cell_type": "code",
   "execution_count": 27,
   "metadata": {
    "execution": {
     "iopub.execute_input": "2025-03-25T07:00:19.297595Z",
     "iopub.status.busy": "2025-03-25T07:00:19.297247Z",
     "iopub.status.idle": "2025-03-25T07:00:19.398921Z",
     "shell.execute_reply": "2025-03-25T07:00:19.398129Z",
     "shell.execute_reply.started": "2025-03-25T07:00:19.297567Z"
    },
    "trusted": true
   },
   "outputs": [
    {
     "name": "stdout",
     "output_type": "stream",
     "text": [
      "\u001b[1m1/1\u001b[0m \u001b[32m━━━━━━━━━━━━━━━━━━━━\u001b[0m\u001b[37m\u001b[0m \u001b[1m0s\u001b[0m 31ms/step\n",
      "Predicted Class: bleached_corals\n"
     ]
    }
   ],
   "source": [
    "import numpy as np\n",
    "import tensorflow as tf\n",
    "from tensorflow.keras.preprocessing import image\n",
    "\n",
    "# Path to the image you want to test\n",
    "image_path = \"/kaggle/input/newtest/newtest/bleached/CBK_0001_00_20230804_0003_27.jpg\"  # Replace with actual image path\n",
    "\n",
    "# Load and preprocess the image\n",
    "img = image.load_img(image_path, target_size=(224, 224))  # Resize to match model input size\n",
    "img_array = image.img_to_array(img)  # Convert to array\n",
    "img_array = np.expand_dims(img_array, axis=0)  # Add batch dimension\n",
    "img_array /= 255.0  # Normalize (same as training)\n",
    "\n",
    "# Make prediction\n",
    "prediction = model.predict(img_array)[0][0]  # Get probability\n",
    "\n",
    "# Define class names (Make sure these match your training class names)\n",
    "class_names = list(train_generator.class_indices.keys())\n",
    "\n",
    "# Convert probability to class label\n",
    "predicted_class = class_names[int(prediction > 0.5)]  # If > 0.5, classify as class[1], else class[0]\n",
    "\n",
    "print(f\"Predicted Class: {predicted_class}\")\n"
   ]
  },
  {
   "cell_type": "code",
   "execution_count": 29,
   "metadata": {
    "execution": {
     "iopub.execute_input": "2025-03-25T07:02:19.485693Z",
     "iopub.status.busy": "2025-03-25T07:02:19.485364Z",
     "iopub.status.idle": "2025-03-25T07:02:19.862501Z",
     "shell.execute_reply": "2025-03-25T07:02:19.861591Z",
     "shell.execute_reply.started": "2025-03-25T07:02:19.485668Z"
    },
    "trusted": true
   },
   "outputs": [
    {
     "data": {
      "image/png": "[encoded data removed]",
      "text/plain": [
       "<Figure size 1200x500 with 2 Axes>"
      ]
     },
     "metadata": {},
     "output_type": "display_data"
    }
   ],
   "source": [
    "import matplotlib.pyplot as plt\n",
    "\n",
    "# Extract accuracy and loss\n",
    "train_acc = history.history['accuracy']\n",
    "val_acc = history.history['val_accuracy']\n",
    "train_loss = history.history['loss']\n",
    "val_loss = history.history['val_loss']\n",
    "epochs_range = range(1, len(train_acc) + 1)\n",
    "\n",
    "# Plot Training, Validation, and Test Accuracy\n",
    "plt.figure(figsize=(12, 5))\n",
    "\n",
    "plt.subplot(1, 2, 1)\n",
    "plt.plot(epochs_range, train_acc, 'b', label='Train Accuracy')  # Blue\n",
    "plt.plot(epochs_range, val_acc, 'r', label='Validation Accuracy')  # Red\n",
    "plt.axhline(y=test_acc, color='g', linestyle='--', label=f'Test Accuracy: {test_acc:.4f}')  # Blue Dashed\n",
    "plt.xlabel('Epochs')\n",
    "plt.ylabel('Accuracy')\n",
    "plt.title('Training, Validation, and Test Accuracy')\n",
    "plt.legend()\n",
    "\n",
    "# Plot Training, Validation, and Test Loss\n",
    "plt.subplot(1, 2, 2)\n",
    "plt.plot(epochs_range, train_loss, 'b', label='Train Loss')  # Blue\n",
    "plt.plot(epochs_range, val_loss, 'r', label='Validation Loss')  # Red\n",
    "plt.axhline(y=test_loss, color='g', linestyle='--', label=f'Test Loss: {test_loss:.4f}')  # Blue Dashed\n",
    "plt.xlabel('Epochs')\n",
    "plt.ylabel('Loss')\n",
    "plt.title('Training, Validation, and Test Loss')\n",
    "plt.legend()\n",
    "\n",
    "plt.show()\n"
   ]
  },
  {
   "cell_type": "code",
   "execution_count": 10,
   "metadata": {
    "execution": {
     "iopub.execute_input": "2025-03-25T06:50:42.903960Z",
     "iopub.status.busy": "2025-03-25T06:50:42.903659Z",
     "iopub.status.idle": "2025-03-25T06:51:03.073256Z",
     "shell.execute_reply": "2025-03-25T06:51:03.072227Z",
     "shell.execute_reply.started": "2025-03-25T06:50:42.903936Z"
    },
    "trusted": true
   },
   "outputs": [
    {
     "name": "stdout",
     "output_type": "stream",
     "text": [
      "\u001b[1m29/29\u001b[0m \u001b[32m━━━━━━━━━━━━━━━━━━━━\u001b[0m\u001b[37m\u001b[0m \u001b[1m20s\u001b[0m 420ms/step\n",
      "                 precision    recall  f1-score   support\n",
      "\n",
      "bleached_corals       0.99      0.98      0.99       485\n",
      " healthy_corals       0.98      0.99      0.99       438\n",
      "\n",
      "       accuracy                           0.99       923\n",
      "      macro avg       0.99      0.99      0.99       923\n",
      "   weighted avg       0.99      0.99      0.99       923\n",
      "\n"
     ]
    }
   ],
   "source": [
    "from sklearn.metrics import classification_report\n",
    "import numpy as np\n",
    "\n",
    "# Get True Labels\n",
    "y_true = test_generator.classes\n",
    "\n",
    "# Get Predicted Probabilities\n",
    "y_pred_probs = model.predict(test_generator)\n",
    "\n",
    "# Convert Probabilities to Binary Labels\n",
    "y_pred_classes = (y_pred_probs > 0.5).astype(int).flatten()\n",
    "\n",
    "# Get Class Names\n",
    "class_names = list(test_generator.class_indices.keys())\n",
    "\n",
    "# Generate Classification Report\n",
    "report = classification_report(y_true, y_pred_classes, target_names=class_names)\n",
    "print(report)\n"
   ]
  },
  {
   "cell_type": "code",
   "execution_count": 13,
   "metadata": {
    "execution": {
     "iopub.execute_input": "2025-03-25T06:52:57.656114Z",
     "iopub.status.busy": "2025-03-25T06:52:57.655808Z",
     "iopub.status.idle": "2025-03-25T06:52:57.751369Z",
     "shell.execute_reply": "2025-03-25T06:52:57.750631Z",
     "shell.execute_reply.started": "2025-03-25T06:52:57.656091Z"
    },
    "trusted": true
   },
   "outputs": [
    {
     "name": "stdout",
     "output_type": "stream",
     "text": [
      "\u001b[1m1/1\u001b[0m \u001b[32m━━━━━━━━━━━━━━━━━━━━\u001b[0m\u001b[37m\u001b[0m \u001b[1m0s\u001b[0m 29ms/step\n",
      "Predicted Class: Healthy\n",
      "Confidence Scores: [5.702315e-06]\n"
     ]
    }
   ],
   "source": [
    "import numpy as np\n",
    "from tensorflow.keras.preprocessing import image\n",
    "\n",
    "# Define class labels (Update according to your dataset)\n",
    "class_labels = ['Healthy', 'Bleached']  # Change as per your dataset\n",
    "\n",
    "# Load and preprocess a single image\n",
    "img_path = \"/kaggle/input/coralreef/Bleached Corals and Healthy Corals Classification/Training/bleached_corals/10033870215_3664757d59_o_0_9189_0_1694.jpg\"  # Change this to your test image path\n",
    "img = image.load_img(img_path, target_size=(224, 224))  # Resize to model input size\n",
    "img_array = image.img_to_array(img)  # Convert to array\n",
    "img_array = np.expand_dims(img_array, axis=0)  # Expand dims for batch format\n",
    "img_array = img_array / 255.0  # Normalize (if needed)\n",
    "\n",
    "# Make prediction using the trained model in memory\n",
    "predictions = model.predict(img_array)\n",
    "predicted_class = np.argmax(predictions, axis=1)[0]  # Get class index\n",
    "\n",
    "# Print the result\n",
    "print(f\"Predicted Class: {class_labels[predicted_class]}\")\n",
    "print(f\"Confidence Scores: {predictions[0]}\")\n"
   ]
  },
  {
   "cell_type": "code",
   "execution_count": null,
   "metadata": {
    "trusted": true
   },
   "outputs": [],
   "source": []
  }
 ],
 "metadata": {
  "kaggle": {
   "accelerator": "gpu",
   "dataSources": [
    {
     "datasetId": 6946561,
     "sourceId": 11137105,
     "sourceType": "datasetVersion"
    },
    {
     "datasetId": 6948216,
     "sourceId": 11139209,
     "sourceType": "datasetVersion"
    },
    {
     "datasetId": 6958502,
     "sourceId": 11152985,
     "sourceType": "datasetVersion"
    }
   ],
   "dockerImageVersionId": 30919,
   "isGpuEnabled": true,
   "isInternetEnabled": true,
   "language": "python",
   "sourceType": "notebook"
  },
  "kernelspec": {
   "display_name": "Python 3",
   "language": "python",
   "name": "python3"
  },
  "language_info": {
   "codemirror_mode": {
    "name": "ipython",
    "version": 3
   },
   "file_extension": ".py",
   "mimetype": "text/x-python",
   "name": "python",
   "nbconvert_exporter": "python",
   "pygments_lexer": "ipython3",
   "version": "3.10.12"
  }
 },
 "nbformat": 4,
 "nbformat_minor": 4
}
